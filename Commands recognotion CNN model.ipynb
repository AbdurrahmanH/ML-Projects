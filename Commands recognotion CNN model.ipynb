{
  "nbformat": 4,
  "nbformat_minor": 0,
  "metadata": {
    "colab": {
      "name": "Copy of voice recognotion model.ipynb",
      "provenance": [],
      "collapsed_sections": [
        "joKw5jO8K-dT"
      ]
    },
    "kernelspec": {
      "name": "python2",
      "display_name": "Python 2"
    }
  },
  "cells": [
    {
      "cell_type": "code",
      "metadata": {
        "id": "SbkGFthGK2Bn",
        "colab_type": "code",
        "cellView": "form",
        "colab": {}
      },
      "source": [
        "#@title Imports\n",
        "import matplotlib.pyplot as plt\n",
        "from scipy import signal\n",
        "from scipy.io import wavfile\n",
        "import scipy\n",
        "import os\n",
        "import wave\n",
        "import librosa\n",
        "from scipy.io import wavfile\n",
        "import pylab\n",
        "import numpy as np\n",
        "import librosa.display\n",
        "import pandas as pd\n",
        "\n",
        "import keras\n",
        "from keras.models import Sequential\n",
        "from keras.layers import Dense, Dropout, Flatten ,BatchNormalization\n",
        "from keras.layers import Conv2D, MaxPooling2D\n",
        "from keras.utils import to_categorical\n",
        "from keras.preprocessing import image\n",
        "from keras.utils import to_categorical\n",
        "\n",
        "import numpy as np\n",
        "import pandas as pd\n",
        "import matplotlib.pyplot as plt\n",
        "from sklearn.model_selection import train_test_split\n",
        "from sklearn.metrics import confusion_matrix\n",
        "\n",
        "from tqdm import tqdm\n",
        "from collections import Counter\n",
        "import random\n",
        "import xgboost as xgb\n",
        "from xgboost import XGBClassifier\n",
        "import itertools\n",
        "\n",
        "\n",
        "\n"
      ],
      "execution_count": 0,
      "outputs": []
    },
    {
      "cell_type": "code",
      "metadata": {
        "id": "sauiAAulwhu1",
        "colab_type": "code",
        "cellView": "form",
        "colab": {}
      },
      "source": [
        "#@title My Performance Metrics Functions { form-width: \"25%\" }\n",
        "#Gives Exact and adjacent Accuracies and plots confusion matrix\n",
        "def Accuracy(test_output, prediction):\n",
        "#     get_accuracies(test_output, prediction)\n",
        "    return get_accuracies(test_output, prediction)\n",
        "#     get_confusion_matrix(test_output, prediction, normalize= True)\n",
        "        \n",
        "    \n",
        "#calculates and plots confusion matrix\n",
        "def get_confusion_matrix(test_output, prediction, classes=[1,2,3],normalize=False,title='Confusion matrix',cmap=plt.cm.Blues):\n",
        "    \"\"\"\n",
        "    This function prints and plots the confusion matrix.\n",
        "    Normalization can be applied by setting `normalize=True`.\n",
        "    \"\"\"\n",
        "    #calculate confusion matrix\n",
        "    cm = confusion_matrix(test_output, prediction)\n",
        "    plt.figure()\n",
        "\n",
        "    if normalize:\n",
        "        cm = cm.astype('float') / cm.sum(axis=1)[:, np.newaxis]*100\n",
        "        print(\"Normalized confusion matrix\")\n",
        "        \n",
        "    #plot confusion matrix   \n",
        "    plt.imshow(cm, interpolation='nearest', cmap=cmap)\n",
        "    plt.title(title)\n",
        "    plt.colorbar()\n",
        "    tick_marks = np.arange(len(classes))\n",
        "    plt.xticks(tick_marks, classes, rotation=45)\n",
        "    plt.yticks(tick_marks, classes)\n",
        "\n",
        "    fmt = '.1f' if normalize else 'd'\n",
        "    thresh = cm.max() / 2.\n",
        "    for i, j in itertools.product(range(cm.shape[0]), range(cm.shape[1])):\n",
        "        plt.text(j, i, format(cm[i, j], fmt),\n",
        "                 horizontalalignment=\"center\",\n",
        "                 color=\"white\" if cm[i, j] > thresh else \"black\")\n",
        "\n",
        "    plt.tight_layout()\n",
        "    plt.ylabel('True label')\n",
        "    plt.xlabel('Predicted label')\n",
        "    plt.show()\n",
        "    \n",
        "#     return cm\n",
        "\n",
        "#returns Exact accuracy and Adjacent accuracy\n",
        "def get_accuracies(Facies_test, prediction, classes=[0,1,2]):\n",
        "    \n",
        "    #get and assign confusion matrix, then plot it\n",
        "    Confusion_Matrix = confusion_matrix(Facies_test, prediction)\n",
        "    cm = Confusion_Matrix.astype('float') / Confusion_Matrix.sum(axis=1)[:, np.newaxis]*100\n",
        "    \n",
        "    #Calculates exact accuracy using confusion matrix \n",
        "    correct = 0\n",
        "    \n",
        "    for i in classes:\n",
        "        correct = correct + Confusion_Matrix[i][i]\n",
        "\n",
        "        \n",
        "    correct2 = correct        \n",
        "    Exact_Accuracy = float(correct)/len(Facies_test)*100\n",
        "    \n",
        "\n",
        "    accuracy_adjacent = float(correct)/len(Facies_test)*100\n",
        "\n",
        "    \n",
        "#     print 'Exact Accuracy = %.3f' % Exact_Accuracy +'%    '\n",
        "    return Exact_Accuracy\n",
        "#     return 'Exact Accuracy = %.3f' % Exact_Accuracy +'%' +'\\n         Adjacent Accuracy = %.3f' % accuracy_adjacent +'%'\n"
      ],
      "execution_count": 0,
      "outputs": []
    },
    {
      "cell_type": "markdown",
      "metadata": {
        "id": "DSvPSKvcFVqJ",
        "colab_type": "text"
      },
      "source": [
        "###Voice recording Function\n"
      ]
    },
    {
      "cell_type": "code",
      "metadata": {
        "id": "44WMUWLFLZow",
        "colab_type": "code",
        "colab": {}
      },
      "source": [
        "# To run on Your machine, not in the cloud !!!!!\n",
        "\n",
        "!pip install sounddevice\n",
        "import sounddevice as sd\n",
        "\n",
        "duration = 2.5  # seconds\n",
        "fs = 48000\n",
        "sd.default.samplerate = fs\n",
        "sd.default.channels = 2\n",
        "\n",
        "\n",
        "###### The function that does the recording and play back ######\n",
        "def recording():\n",
        "    print (\"Recording!\")\n",
        "    myrecording = sd.rec(int(duration * fs))\n",
        "    sd.wait()\n",
        "    print (\"Done recording.\")\n",
        "    sd.play(myrecording, fs)"
      ],
      "execution_count": 0,
      "outputs": []
    },
    {
      "cell_type": "markdown",
      "metadata": {
        "id": "ZjATc3Su7K0i",
        "colab_type": "text"
      },
      "source": [
        "#Data Preperation:\n",
        "**Basic Assumptions:**\n",
        "\n",
        "*   The Audio files are assumed to be saved in one folder.\n",
        "*   All Sudio files are 2.5s long. Otherwise, you might have to change the spectrogram image dimentiones.\n",
        "---\n",
        "\n",
        "\n",
        "\n",
        "\n",
        "The following cell contains data preperation functions.\n",
        "The Training data function will get the audiofiles names, exctact them, and turn them to spectrogram images ready for the Convolutional Neural Network. The Training Data will be labled as well (Depending on the Beginning of Files names).\n",
        "\n",
        "The Testing Function is designed to Get a audio signals (voices) directly for the purposes of live testing. Hence, we need to feed it extracted audio.\n"
      ]
    },
    {
      "cell_type": "code",
      "metadata": {
        "id": "6vYZyU9AjopO",
        "colab_type": "code",
        "colab": {}
      },
      "source": [
        "#Load Files and make testing dataset  \n",
        "def Create_Test_Data(Audios):\n",
        "  ims=[]        #Create a list to contain the spectrogram images\n",
        "\n",
        "  for audio in tqdm(Audios):    # Loop over voice files and create spectrogram images\n",
        "    \n",
        "    D = librosa.amplitude_to_db(librosa.stft(audio), ref=np.max)\n",
        "    #Make the images in the right shape (230x350)\n",
        "    if (D.shape[1]<230):\n",
        "      while (D.shape[1]<230):\n",
        "        D = np.append(D,D[:,-2:-1], axis=1)\n",
        "    else:\n",
        "      D = D[:,0:230]\n",
        "    D = D[0:350,:]\n",
        "    \n",
        "    ims.append(np.expand_dims(D, axis=2))\n",
        "    ims = np.array(ims)\n",
        "    return ims\n",
        "  \n",
        "  \n",
        "  \n",
        "#Load Files and make training dataset\n",
        "def Create_Training_Data(files_list):\n",
        "  \n",
        "  classes =[]   #Create a list to contain classes\n",
        "  ims=[]        #Create a list to contain the spectrogram images\n",
        "\n",
        "  \n",
        "  for name in tqdm(files_list):    # Lop\\op to load files and create spectrogram images\n",
        "\n",
        "    y, sr = librosa.core.load(name, sr=48000)\n",
        "    D = librosa.amplitude_to_db(librosa.stft(y), ref=np.max)\n",
        "\n",
        "    #Make the images in the right shape (230x350)\n",
        "    if (D.shape[1]<230):\n",
        "      while (D.shape[1]<230):\n",
        "        D = np.append(D,D[:,-2:-1], axis=1)\n",
        "    else:\n",
        "      D = D[:,0:230]\n",
        "    D = D[0:350,:]\n",
        "\n",
        "    #Appoint classes\n",
        "    ims.append(np.expand_dims(D, axis=2))\n",
        "    if name.startswith('left'):\n",
        "      classes.append(0)\n",
        "    elif name.startswith('right'):\n",
        "      classes.append(1)\n",
        "    else:\n",
        "      classes.append(2)\n",
        "\n",
        "  # Convert lists to Arrays\n",
        "  ims = np.array(ims)\n",
        "  c1 = classes\n",
        "  classes = to_categorical(np.array(classes))  # one-hot encoding the classes\n",
        "  \n",
        "  return ims, classes\n",
        "\n",
        "\n",
        "####Skip this####\n",
        "#Load model\n",
        "# modx =  keras.models.load_model('VR_model_3classes_100_84.h5')\n",
        "\n",
        "\n",
        "# Prediction function\n",
        "def predict(ims, model=modx):\n",
        "  label = np.argmax(model.predict(ims))\n",
        "  if label==0:\n",
        "    return 'Left'\n",
        "  elif label ==1:\n",
        "    return 'Right'\n",
        "  else:\n",
        "    return 'Click'\n",
        "  \n",
        "  "
      ],
      "execution_count": 0,
      "outputs": []
    },
    {
      "cell_type": "markdown",
      "metadata": {
        "id": "qbsTz1xX2-2s",
        "colab_type": "text"
      },
      "source": [
        "#Get The Data Ready\n"
      ]
    },
    {
      "cell_type": "code",
      "metadata": {
        "id": "DYOESgMv8m1t",
        "colab_type": "code",
        "outputId": "efc04d0a-096f-4793-b723-816f1a2ce34f",
        "colab": {
          "base_uri": "https://localhost:8080/",
          "height": 367
        }
      },
      "source": [
        "#The audio files we use for training are in saved in a certain direcory.\n",
        "# Get files names:\n",
        "files_names = [f for f in os.listdir('.') if os.path.isfile(f)]\n",
        "\n",
        "  \n",
        "#Creatning Training Data\n",
        "Training_ims, classes = Create_Training_Data(files_names)\n",
        "\n",
        "# The Testing Function is designed to Get a audio signals (voices) directly for the purposes of live testing...\n",
        "# ... Hence, we need to feed it extracted audio:\n",
        "# Get audio from files:\n",
        "voices = [librosa.core.load(name, sr=48000)[0] for name in files_names]\n",
        "Testing_ims = Create_Test_Data(voices)\n",
        "\n",
        "\n",
        "\n",
        "#Example of the spectrogram images.\n",
        "plt.imshow(Training_ims[0,:,:,0])"
      ],
      "execution_count": 0,
      "outputs": [
        {
          "output_type": "execute_result",
          "data": {
            "text/plain": [
              "<matplotlib.image.AxesImage at 0x7f10722e1710>"
            ]
          },
          "metadata": {
            "tags": []
          },
          "execution_count": 9
        },
        {
          "output_type": "display_data",
          "data": {
            "image/png": "[encoded data removed]",
            "text/plain": [
              "<Figure size 576x396 with 1 Axes>"
            ]
          },
          "metadata": {
            "tags": []
          }
        }
      ]
    },
    {
      "cell_type": "markdown",
      "metadata": {
        "id": "vZkA9PwC8A9g",
        "colab_type": "text"
      },
      "source": [
        "#Model & Training\n"
      ]
    },
    {
      "cell_type": "code",
      "metadata": {
        "id": "1vx8TrpRCrqH",
        "colab_type": "code",
        "outputId": "45eb0ad3-36c6-4e87-cc75-985fc797a91a",
        "colab": {
          "base_uri": "https://localhost:8080/",
          "height": 3451
        }
      },
      "source": [
        "model = Sequential()\n",
        "model.add(BatchNormalization(input_shape= ims[0].shape))\n",
        "model.add(Conv2D(5, kernel_size=(3, 3),activation='relu'))#,input_shape=(vos.shape)))#(ims[0].shape[0],ims[0].shape[1],1)))\n",
        "model.add(Conv2D(10, (3, 3), activation='relu'))\n",
        "model.add(MaxPooling2D(pool_size=(9, 9)))\n",
        "model.add(Dropout(0.25))\n",
        "model.add(Flatten())\n",
        "model.add(Dense(128, activation='relu'))\n",
        "model.add(Dropout(0.5))\n",
        "model.add(Dense(classes.shape[1], activation='softmax'))\n",
        "\n",
        "model.compile(loss='categorical_crossentropy',optimizer='Adam',metrics=['accuracy'])\n",
        "\n",
        "\n",
        "x_train, x_test, y_train, y_test = train_test_split(Training_ims, classes, test_size=.2, random_state=957)\n",
        "\n",
        "model.fit(x_train, y_train, epochs=100, validation_data=(x_test, y_test))\n"
      ],
      "execution_count": 0,
      "outputs": [
        {
          "output_type": "stream",
          "text": [
            "Train on 48 samples, validate on 13 samples\n",
            "Epoch 1/100\n",
            "48/48 [==============================] - 8s 156ms/step - loss: 1.2831 - acc: 0.4583 - val_loss: 3.3258 - val_acc: 0.3077\n",
            "Epoch 2/100\n",
            "48/48 [==============================] - 5s 99ms/step - loss: 3.8797 - acc: 0.3333 - val_loss: 1.2655 - val_acc: 0.2308\n",
            "Epoch 3/100\n",
            "48/48 [==============================] - 5s 96ms/step - loss: 2.2248 - acc: 0.3125 - val_loss: 1.8972 - val_acc: 0.3846\n",
            "Epoch 4/100\n",
            "48/48 [==============================] - 5s 96ms/step - loss: 1.4983 - acc: 0.5000 - val_loss: 1.3172 - val_acc: 0.3077\n",
            "Epoch 5/100\n",
            "48/48 [==============================] - 5s 97ms/step - loss: 1.3738 - acc: 0.4375 - val_loss: 1.6547 - val_acc: 0.3077\n",
            "Epoch 6/100\n",
            "48/48 [==============================] - 5s 98ms/step - loss: 1.1607 - acc: 0.5417 - val_loss: 1.2436 - val_acc: 0.3077\n",
            "Epoch 7/100\n",
            "48/48 [==============================] - 5s 98ms/step - loss: 1.2652 - acc: 0.5208 - val_loss: 1.1518 - val_acc: 0.3846\n",
            "Epoch 8/100\n",
            "48/48 [==============================] - 5s 97ms/step - loss: 1.0728 - acc: 0.5417 - val_loss: 1.1737 - val_acc: 0.4615\n",
            "Epoch 9/100\n",
            "48/48 [==============================] - 5s 97ms/step - loss: 0.8355 - acc: 0.4792 - val_loss: 1.1079 - val_acc: 0.4615\n",
            "Epoch 10/100\n",
            "48/48 [==============================] - 5s 97ms/step - loss: 0.7806 - acc: 0.7083 - val_loss: 1.1011 - val_acc: 0.4615\n",
            "Epoch 11/100\n",
            "48/48 [==============================] - 5s 96ms/step - loss: 0.6361 - acc: 0.7917 - val_loss: 1.1266 - val_acc: 0.5385\n",
            "Epoch 12/100\n",
            "48/48 [==============================] - 5s 98ms/step - loss: 0.7041 - acc: 0.7292 - val_loss: 1.1048 - val_acc: 0.4615\n",
            "Epoch 13/100\n",
            "48/48 [==============================] - 5s 99ms/step - loss: 0.6686 - acc: 0.7917 - val_loss: 1.0703 - val_acc: 0.5385\n",
            "Epoch 14/100\n",
            "48/48 [==============================] - 5s 97ms/step - loss: 0.6305 - acc: 0.7917 - val_loss: 1.0540 - val_acc: 0.5385\n",
            "Epoch 15/100\n",
            "48/48 [==============================] - 5s 99ms/step - loss: 0.5384 - acc: 0.8125 - val_loss: 1.0517 - val_acc: 0.6154\n",
            "Epoch 16/100\n",
            "48/48 [==============================] - 5s 97ms/step - loss: 0.5823 - acc: 0.7708 - val_loss: 1.0367 - val_acc: 0.6154\n",
            "Epoch 17/100\n",
            "48/48 [==============================] - 5s 98ms/step - loss: 0.5094 - acc: 0.7917 - val_loss: 1.0191 - val_acc: 0.5385\n",
            "Epoch 18/100\n",
            "48/48 [==============================] - 5s 97ms/step - loss: 0.4293 - acc: 0.8333 - val_loss: 0.9962 - val_acc: 0.6923\n",
            "Epoch 19/100\n",
            "48/48 [==============================] - 5s 98ms/step - loss: 0.3367 - acc: 0.9583 - val_loss: 1.0194 - val_acc: 0.6923\n",
            "Epoch 20/100\n",
            "48/48 [==============================] - 5s 98ms/step - loss: 0.4412 - acc: 0.8333 - val_loss: 1.0838 - val_acc: 0.6154\n",
            "Epoch 21/100\n",
            "48/48 [==============================] - 5s 96ms/step - loss: 0.3623 - acc: 0.8750 - val_loss: 1.0075 - val_acc: 0.6923\n",
            "Epoch 22/100\n",
            "48/48 [==============================] - 5s 97ms/step - loss: 0.3338 - acc: 0.9167 - val_loss: 0.9367 - val_acc: 0.6923\n",
            "Epoch 23/100\n",
            "48/48 [==============================] - 5s 97ms/step - loss: 0.3746 - acc: 0.8333 - val_loss: 0.9189 - val_acc: 0.6923\n",
            "Epoch 24/100\n",
            "48/48 [==============================] - 5s 97ms/step - loss: 0.2871 - acc: 0.8958 - val_loss: 0.8946 - val_acc: 0.6923\n",
            "Epoch 25/100\n",
            "48/48 [==============================] - 5s 98ms/step - loss: 0.3325 - acc: 0.8750 - val_loss: 0.8768 - val_acc: 0.7692\n",
            "Epoch 26/100\n",
            "48/48 [==============================] - 5s 98ms/step - loss: 0.2049 - acc: 0.9375 - val_loss: 0.8676 - val_acc: 0.7692\n",
            "Epoch 27/100\n",
            "48/48 [==============================] - 5s 96ms/step - loss: 0.1917 - acc: 0.9583 - val_loss: 0.9016 - val_acc: 0.6923\n",
            "Epoch 28/100\n",
            "48/48 [==============================] - 5s 98ms/step - loss: 0.2400 - acc: 0.9375 - val_loss: 0.8924 - val_acc: 0.6923\n",
            "Epoch 29/100\n",
            "48/48 [==============================] - 5s 97ms/step - loss: 0.2017 - acc: 0.9792 - val_loss: 0.8357 - val_acc: 0.7692\n",
            "Epoch 30/100\n",
            "48/48 [==============================] - 5s 109ms/step - loss: 0.1950 - acc: 0.9375 - val_loss: 0.7657 - val_acc: 0.7692\n",
            "Epoch 31/100\n",
            "48/48 [==============================] - 5s 100ms/step - loss: 0.1600 - acc: 1.0000 - val_loss: 0.7606 - val_acc: 0.7692\n",
            "Epoch 32/100\n",
            "48/48 [==============================] - 5s 98ms/step - loss: 0.0877 - acc: 0.9792 - val_loss: 0.7495 - val_acc: 0.7692\n",
            "Epoch 33/100\n",
            "48/48 [==============================] - 5s 97ms/step - loss: 0.1638 - acc: 0.9583 - val_loss: 0.7593 - val_acc: 0.7692\n",
            "Epoch 34/100\n",
            "48/48 [==============================] - 5s 98ms/step - loss: 0.2002 - acc: 0.9375 - val_loss: 0.8117 - val_acc: 0.7692\n",
            "Epoch 35/100\n",
            "48/48 [==============================] - 5s 98ms/step - loss: 0.1296 - acc: 0.9792 - val_loss: 0.9745 - val_acc: 0.6923\n",
            "Epoch 36/100\n",
            "48/48 [==============================] - 5s 99ms/step - loss: 0.1167 - acc: 0.9792 - val_loss: 0.9602 - val_acc: 0.6923\n",
            "Epoch 37/100\n",
            "48/48 [==============================] - 5s 97ms/step - loss: 0.1048 - acc: 1.0000 - val_loss: 0.7887 - val_acc: 0.8462\n",
            "Epoch 38/100\n",
            "48/48 [==============================] - 5s 98ms/step - loss: 0.1059 - acc: 0.9792 - val_loss: 0.6345 - val_acc: 0.8462\n",
            "Epoch 39/100\n",
            "48/48 [==============================] - 5s 98ms/step - loss: 0.0586 - acc: 1.0000 - val_loss: 0.5573 - val_acc: 0.7692\n",
            "Epoch 40/100\n",
            "48/48 [==============================] - 5s 96ms/step - loss: 0.1078 - acc: 0.9792 - val_loss: 0.5671 - val_acc: 0.7692\n",
            "Epoch 41/100\n",
            "48/48 [==============================] - 5s 99ms/step - loss: 0.0967 - acc: 0.9792 - val_loss: 0.5824 - val_acc: 0.7692\n",
            "Epoch 42/100\n",
            "48/48 [==============================] - 5s 98ms/step - loss: 0.1076 - acc: 0.9792 - val_loss: 0.6167 - val_acc: 0.7692\n",
            "Epoch 43/100\n",
            "48/48 [==============================] - 5s 98ms/step - loss: 0.0399 - acc: 1.0000 - val_loss: 0.6589 - val_acc: 0.7692\n",
            "Epoch 44/100\n",
            "48/48 [==============================] - 5s 97ms/step - loss: 0.0616 - acc: 1.0000 - val_loss: 0.7295 - val_acc: 0.7692\n",
            "Epoch 45/100\n",
            "48/48 [==============================] - 5s 97ms/step - loss: 0.0618 - acc: 1.0000 - val_loss: 0.8321 - val_acc: 0.8462\n",
            "Epoch 46/100\n",
            "48/48 [==============================] - 5s 96ms/step - loss: 0.0449 - acc: 1.0000 - val_loss: 0.8957 - val_acc: 0.8462\n",
            "Epoch 47/100\n",
            "48/48 [==============================] - 5s 99ms/step - loss: 0.0331 - acc: 1.0000 - val_loss: 0.9517 - val_acc: 0.8462\n",
            "Epoch 48/100\n",
            "48/48 [==============================] - 5s 98ms/step - loss: 0.0548 - acc: 1.0000 - val_loss: 0.9765 - val_acc: 0.8462\n",
            "Epoch 49/100\n",
            "48/48 [==============================] - 5s 97ms/step - loss: 0.0647 - acc: 0.9792 - val_loss: 0.9561 - val_acc: 0.8462\n",
            "Epoch 50/100\n",
            "48/48 [==============================] - 5s 99ms/step - loss: 0.0628 - acc: 0.9792 - val_loss: 0.8939 - val_acc: 0.8462\n",
            "Epoch 51/100\n",
            "48/48 [==============================] - 5s 102ms/step - loss: 0.0815 - acc: 0.9583 - val_loss: 0.8170 - val_acc: 0.7692\n",
            "Epoch 52/100\n",
            "48/48 [==============================] - 5s 103ms/step - loss: 0.0617 - acc: 0.9792 - val_loss: 0.8813 - val_acc: 0.7692\n",
            "Epoch 53/100\n",
            "48/48 [==============================] - 5s 99ms/step - loss: 0.0483 - acc: 0.9792 - val_loss: 1.0126 - val_acc: 0.6923\n",
            "Epoch 54/100\n",
            "48/48 [==============================] - 5s 98ms/step - loss: 0.0721 - acc: 0.9792 - val_loss: 1.1645 - val_acc: 0.7692\n",
            "Epoch 55/100\n",
            "48/48 [==============================] - 5s 97ms/step - loss: 0.0322 - acc: 1.0000 - val_loss: 1.2957 - val_acc: 0.7692\n",
            "Epoch 56/100\n",
            "48/48 [==============================] - 5s 97ms/step - loss: 0.0477 - acc: 1.0000 - val_loss: 1.2187 - val_acc: 0.6923\n",
            "Epoch 57/100\n",
            "48/48 [==============================] - 5s 98ms/step - loss: 0.0282 - acc: 1.0000 - val_loss: 1.1476 - val_acc: 0.7692\n",
            "Epoch 58/100\n",
            "48/48 [==============================] - 5s 97ms/step - loss: 0.0410 - acc: 1.0000 - val_loss: 0.9765 - val_acc: 0.7692\n",
            "Epoch 59/100\n",
            "48/48 [==============================] - 5s 101ms/step - loss: 0.0512 - acc: 0.9792 - val_loss: 0.8505 - val_acc: 0.8462\n",
            "Epoch 60/100\n",
            "48/48 [==============================] - 5s 98ms/step - loss: 0.0893 - acc: 0.9583 - val_loss: 0.7564 - val_acc: 0.8462\n",
            "Epoch 61/100\n",
            "48/48 [==============================] - 5s 98ms/step - loss: 0.0233 - acc: 1.0000 - val_loss: 0.7746 - val_acc: 0.8462\n",
            "Epoch 62/100\n",
            "48/48 [==============================] - 5s 98ms/step - loss: 0.0573 - acc: 0.9792 - val_loss: 0.7273 - val_acc: 0.8462\n",
            "Epoch 63/100\n",
            "48/48 [==============================] - 5s 97ms/step - loss: 0.0431 - acc: 1.0000 - val_loss: 0.7413 - val_acc: 0.8462\n",
            "Epoch 64/100\n",
            "48/48 [==============================] - 5s 98ms/step - loss: 0.0451 - acc: 0.9792 - val_loss: 0.7802 - val_acc: 0.8462\n",
            "Epoch 65/100\n",
            "48/48 [==============================] - 5s 97ms/step - loss: 0.0286 - acc: 1.0000 - val_loss: 0.8012 - val_acc: 0.8462\n",
            "Epoch 66/100\n",
            "48/48 [==============================] - 5s 98ms/step - loss: 0.0358 - acc: 0.9792 - val_loss: 0.8361 - val_acc: 0.8462\n",
            "Epoch 67/100\n",
            "48/48 [==============================] - 5s 97ms/step - loss: 0.0411 - acc: 1.0000 - val_loss: 0.8297 - val_acc: 0.8462\n",
            "Epoch 68/100\n",
            "48/48 [==============================] - 5s 99ms/step - loss: 0.0590 - acc: 1.0000 - val_loss: 0.7846 - val_acc: 0.8462\n",
            "Epoch 69/100\n",
            "48/48 [==============================] - 5s 97ms/step - loss: 0.0478 - acc: 1.0000 - val_loss: 0.7282 - val_acc: 0.8462\n",
            "Epoch 70/100\n",
            "48/48 [==============================] - 5s 99ms/step - loss: 0.0913 - acc: 0.9583 - val_loss: 0.7487 - val_acc: 0.7692\n",
            "Epoch 71/100\n",
            "48/48 [==============================] - 5s 99ms/step - loss: 0.0271 - acc: 1.0000 - val_loss: 0.7619 - val_acc: 0.7692\n",
            "Epoch 72/100\n",
            "48/48 [==============================] - 5s 98ms/step - loss: 0.0410 - acc: 1.0000 - val_loss: 0.7586 - val_acc: 0.7692\n",
            "Epoch 73/100\n",
            "48/48 [==============================] - 5s 100ms/step - loss: 0.0175 - acc: 1.0000 - val_loss: 0.7594 - val_acc: 0.7692\n",
            "Epoch 74/100\n",
            "48/48 [==============================] - 5s 96ms/step - loss: 0.0573 - acc: 0.9792 - val_loss: 0.7775 - val_acc: 0.7692\n",
            "Epoch 75/100\n",
            "48/48 [==============================] - 5s 97ms/step - loss: 0.0219 - acc: 1.0000 - val_loss: 0.8009 - val_acc: 0.7692\n",
            "Epoch 76/100\n",
            "48/48 [==============================] - 5s 97ms/step - loss: 0.0335 - acc: 1.0000 - val_loss: 0.7695 - val_acc: 0.7692\n",
            "Epoch 77/100\n",
            "48/48 [==============================] - 5s 99ms/step - loss: 0.0223 - acc: 1.0000 - val_loss: 0.7582 - val_acc: 0.7692\n",
            "Epoch 78/100\n",
            "48/48 [==============================] - 5s 100ms/step - loss: 0.0422 - acc: 1.0000 - val_loss: 0.7500 - val_acc: 0.7692\n",
            "Epoch 79/100\n",
            "48/48 [==============================] - 5s 98ms/step - loss: 0.0501 - acc: 0.9792 - val_loss: 0.7191 - val_acc: 0.7692\n",
            "Epoch 80/100\n",
            "48/48 [==============================] - 5s 98ms/step - loss: 0.0281 - acc: 1.0000 - val_loss: 0.7372 - val_acc: 0.8462\n",
            "Epoch 81/100\n",
            "48/48 [==============================] - 5s 107ms/step - loss: 0.0591 - acc: 0.9792 - val_loss: 0.8235 - val_acc: 0.8462\n",
            "Epoch 82/100\n",
            "48/48 [==============================] - 5s 98ms/step - loss: 0.0225 - acc: 1.0000 - val_loss: 0.9250 - val_acc: 0.8462\n",
            "Epoch 83/100\n",
            "48/48 [==============================] - 5s 98ms/step - loss: 0.0591 - acc: 0.9792 - val_loss: 0.9015 - val_acc: 0.8462\n",
            "Epoch 84/100\n",
            "48/48 [==============================] - 5s 98ms/step - loss: 0.0340 - acc: 0.9792 - val_loss: 0.8400 - val_acc: 0.8462\n",
            "Epoch 85/100\n",
            "48/48 [==============================] - 5s 96ms/step - loss: 0.0218 - acc: 1.0000 - val_loss: 0.7870 - val_acc: 0.8462\n",
            "Epoch 86/100\n",
            "48/48 [==============================] - 5s 97ms/step - loss: 0.0213 - acc: 1.0000 - val_loss: 0.7955 - val_acc: 0.8462\n",
            "Epoch 87/100\n",
            "48/48 [==============================] - 5s 97ms/step - loss: 0.0320 - acc: 1.0000 - val_loss: 0.8334 - val_acc: 0.8462\n",
            "Epoch 88/100\n",
            "48/48 [==============================] - 5s 98ms/step - loss: 0.0496 - acc: 0.9792 - val_loss: 0.8488 - val_acc: 0.8462\n",
            "Epoch 89/100\n",
            "48/48 [==============================] - 5s 98ms/step - loss: 0.0145 - acc: 1.0000 - val_loss: 0.8198 - val_acc: 0.8462\n",
            "Epoch 90/100\n",
            "48/48 [==============================] - 5s 96ms/step - loss: 0.0247 - acc: 1.0000 - val_loss: 0.7440 - val_acc: 0.8462\n",
            "Epoch 91/100\n",
            "48/48 [==============================] - 5s 95ms/step - loss: 0.0140 - acc: 1.0000 - val_loss: 0.6775 - val_acc: 0.8462\n",
            "Epoch 92/100\n",
            "48/48 [==============================] - 5s 99ms/step - loss: 0.0112 - acc: 1.0000 - val_loss: 0.6271 - val_acc: 0.8462\n",
            "Epoch 93/100\n",
            "48/48 [==============================] - 5s 97ms/step - loss: 0.0540 - acc: 0.9583 - val_loss: 0.6645 - val_acc: 0.8462\n",
            "Epoch 94/100\n",
            "48/48 [==============================] - 5s 97ms/step - loss: 0.0470 - acc: 0.9792 - val_loss: 0.7032 - val_acc: 0.8462\n",
            "Epoch 95/100\n",
            "48/48 [==============================] - 5s 97ms/step - loss: 0.0192 - acc: 1.0000 - val_loss: 0.7772 - val_acc: 0.8462\n",
            "Epoch 96/100\n",
            "48/48 [==============================] - 5s 98ms/step - loss: 0.0061 - acc: 1.0000 - val_loss: 0.8342 - val_acc: 0.8462\n",
            "Epoch 97/100\n",
            "48/48 [==============================] - 5s 97ms/step - loss: 0.0042 - acc: 1.0000 - val_loss: 0.8752 - val_acc: 0.8462\n",
            "Epoch 98/100\n",
            "48/48 [==============================] - 5s 97ms/step - loss: 0.0072 - acc: 1.0000 - val_loss: 0.8664 - val_acc: 0.8462\n",
            "Epoch 99/100\n",
            "48/48 [==============================] - 5s 97ms/step - loss: 0.0232 - acc: 1.0000 - val_loss: 0.8082 - val_acc: 0.8462\n",
            "Epoch 100/100\n",
            "48/48 [==============================] - 5s 97ms/step - loss: 0.0026 - acc: 1.0000 - val_loss: 0.7536 - val_acc: 0.8462\n"
          ],
          "name": "stdout"
        },
        {
          "output_type": "execute_result",
          "data": {
            "text/plain": [
              "<keras.callbacks.History at 0x7f5163f16ed0>"
            ]
          },
          "metadata": {
            "tags": []
          },
          "execution_count": 53
        }
      ]
    },
    {
      "cell_type": "code",
      "metadata": {
        "id": "OYZMRDrOfKsr",
        "colab_type": "code",
        "colab": {}
      },
      "source": [
        "model.fit(x_train, y_train, epochs=40, validation_data=(x_test, y_test))"
      ],
      "execution_count": 0,
      "outputs": []
    },
    {
      "cell_type": "code",
      "metadata": {
        "id": "HAcx2Efq4Xt9",
        "colab_type": "code",
        "outputId": "aaedf119-1f8e-42cb-bb7d-8f042e4f6f8d",
        "colab": {
          "base_uri": "https://localhost:8080/",
          "height": 442
        }
      },
      "source": [
        "model.summary()"
      ],
      "execution_count": 0,
      "outputs": [
        {
          "output_type": "stream",
          "text": [
            "_________________________________________________________________\n",
            "Layer (type)                 Output Shape              Param #   \n",
            "=================================================================\n",
            "batch_normalization_15 (Batc (None, 350, 230, 1)       4         \n",
            "_________________________________________________________________\n",
            "conv2d_29 (Conv2D)           (None, 348, 228, 5)       50        \n",
            "_________________________________________________________________\n",
            "conv2d_30 (Conv2D)           (None, 346, 226, 10)      460       \n",
            "_________________________________________________________________\n",
            "max_pooling2d_15 (MaxPooling (None, 38, 25, 10)        0         \n",
            "_________________________________________________________________\n",
            "dropout_30 (Dropout)         (None, 38, 25, 10)        0         \n",
            "_________________________________________________________________\n",
            "flatten_15 (Flatten)         (None, 9500)              0         \n",
            "_________________________________________________________________\n",
            "dense_31 (Dense)             (None, 128)               1216128   \n",
            "_________________________________________________________________\n",
            "dropout_31 (Dropout)         (None, 128)               0         \n",
            "_________________________________________________________________\n",
            "dense_32 (Dense)             (None, 3)                 387       \n",
            "=================================================================\n",
            "Total params: 1,217,029\n",
            "Trainable params: 1,217,027\n",
            "Non-trainable params: 2\n",
            "_________________________________________________________________\n"
          ],
          "name": "stdout"
        }
      ]
    },
    {
      "cell_type": "code",
      "metadata": {
        "id": "8G9nF0CynRtr",
        "colab_type": "code",
        "colab": {}
      },
      "source": [
        "# model.save('VR_model_3classes_100_84.h5')\n",
        "\n",
        "modx =  keras.models.load_model('VR_model_3classes_100_84.h5')\n",
        "modx.predict(x_test)"
      ],
      "execution_count": 0,
      "outputs": []
    },
    {
      "cell_type": "markdown",
      "metadata": {
        "id": "_ih-j5_J93im",
        "colab_type": "text"
      },
      "source": [
        "####Other Models"
      ]
    },
    {
      "cell_type": "code",
      "metadata": {
        "id": "pLfUSSVU6KlY",
        "colab_type": "code",
        "outputId": "8fa74359-39eb-4704-f365-8bead054cfb1",
        "colab": {
          "base_uri": "https://localhost:8080/",
          "height": 442
        }
      },
      "source": [
        "model3 = Sequential()\n",
        "model3.add(BatchNormalization(input_shape= ims[0].shape))\n",
        "model3.add(Conv2D(32, kernel_size=(3, 3),activation='relu'))#,input_shape=(vos.shape)))#(ims[0].shape[0],ims[0].shape[1],1)))\n",
        "model3.add(Conv2D(64, (3, 3), activation='relu'))\n",
        "model3.add(MaxPooling2D(pool_size=(5, 5)))\n",
        "model3.add(Dropout(0.25))\n",
        "model3.add(Flatten())\n",
        "model3.add(Dense(128, activation='relu'))\n",
        "model3.add(Dropout(0.5))\n",
        "model3.add(Dense(classes.shape[1], activation='softmax'))\n",
        "\n",
        "model3.summary()"
      ],
      "execution_count": 0,
      "outputs": [
        {
          "output_type": "stream",
          "text": [
            "_________________________________________________________________\n",
            "Layer (type)                 Output Shape              Param #   \n",
            "=================================================================\n",
            "batch_normalization_19 (Batc (None, 350, 230, 1)       4         \n",
            "_________________________________________________________________\n",
            "conv2d_31 (Conv2D)           (None, 348, 228, 32)      320       \n",
            "_________________________________________________________________\n",
            "conv2d_32 (Conv2D)           (None, 346, 226, 64)      18496     \n",
            "_________________________________________________________________\n",
            "max_pooling2d_16 (MaxPooling (None, 69, 45, 64)        0         \n",
            "_________________________________________________________________\n",
            "dropout_29 (Dropout)         (None, 69, 45, 64)        0         \n",
            "_________________________________________________________________\n",
            "flatten_14 (Flatten)         (None, 198720)            0         \n",
            "_________________________________________________________________\n",
            "dense_27 (Dense)             (None, 128)               25436288  \n",
            "_________________________________________________________________\n",
            "dropout_30 (Dropout)         (None, 128)               0         \n",
            "_________________________________________________________________\n",
            "dense_28 (Dense)             (None, 2)                 258       \n",
            "=================================================================\n",
            "Total params: 25,455,366\n",
            "Trainable params: 25,455,364\n",
            "Non-trainable params: 2\n",
            "_________________________________________________________________\n"
          ],
          "name": "stdout"
        }
      ]
    },
    {
      "cell_type": "code",
      "metadata": {
        "id": "xEMb2BmLwLrv",
        "colab_type": "code",
        "outputId": "cfe3c8e9-913d-42e2-c24e-0f97cee4d513",
        "colab": {
          "base_uri": "https://localhost:8080/",
          "height": 34
        }
      },
      "source": [
        "x_train, x_test, y_train, y_test = train_test_split(ims, c1, test_size=.2, random_state=1257)\n",
        "\n",
        "x_train2 = np.array([x_train[:,:,:,0][i].flatten() for i in range(len(x_train)) ])\n",
        "x_test2 = np.array([x_test[:,:,:,0][i].flatten() for i in range(len(x_test)) ])\n",
        "Model = XGBClassifier(n_jobs=2, max_depth=35, learning_rate= 0.498922, n_estimators= 600)\n",
        "Model.fit(x_train2, y_train)\n",
        "predictions = Model.predict(x_test2)\n",
        "\n",
        "print get_accuracies(y_test, predictions, classes=[0,1])\n"
      ],
      "execution_count": 0,
      "outputs": [
        {
          "output_type": "stream",
          "text": [
            "62.5\n"
          ],
          "name": "stdout"
        }
      ]
    },
    {
      "cell_type": "code",
      "metadata": {
        "id": "qujG8Qkr7XAH",
        "colab_type": "code",
        "outputId": "9a61bde6-156b-417c-c726-20a79205b447",
        "colab": {
          "base_uri": "https://localhost:8080/",
          "height": 680
        }
      },
      "source": [
        "x_train = ims\n",
        "y_train = classes\n",
        "\n",
        "model2 = Sequential()\n",
        "model2.add(BatchNormalization(input_shape=x_train.shape[1:]))\n",
        "model2.add(Conv2D(64, (5, 5), padding='same', activation='elu'))\n",
        "model2.add(MaxPooling2D(pool_size=(2, 2), strides=(2,2)))\n",
        "model2.add(Dropout(0.25))\n",
        "\n",
        "model2.add(BatchNormalization(input_shape=x_train.shape[1:]))\n",
        "model2.add(Conv2D(128, (5, 5), padding='same', activation='elu'))\n",
        "model2.add(MaxPooling2D(pool_size=(2, 2)))\n",
        "model2.add(Dropout(0.25))\n",
        "\n",
        "model2.add(BatchNormalization(input_shape=x_train.shape[1:]))\n",
        "model2.add(Conv2D(256, (5, 5), padding='same', activation='elu'))\n",
        "model2.add(MaxPooling2D(pool_size=(2, 2), strides=(2,2)))\n",
        "model2.add(Dropout(0.25))\n",
        "\n",
        "model2.add(Flatten())\n",
        "model2.add(Dense(256, activation='elu'))\n",
        "model2.add(Dropout(0.5))\n",
        "model2.add(Dense(2, activation='softmax'))\n",
        "model2.summary()\n",
        "\n",
        "# x_train, x_test, y_train, y_test = train_test_split(ims, classes, test_size=.2, random_state=0)\n",
        "\n",
        "# model2.compile(loss='categorical_crossentropy',optimizer='Adam',metrics=['accuracy'])\n",
        "\n",
        "# model2.fit(x_train, y_train, epochs=10, validation_data=(x_test, y_test))"
      ],
      "execution_count": 0,
      "outputs": [
        {
          "output_type": "stream",
          "text": [
            "_________________________________________________________________\n",
            "Layer (type)                 Output Shape              Param #   \n",
            "=================================================================\n",
            "batch_normalization_9 (Batch (None, 350, 230, 1)       4         \n",
            "_________________________________________________________________\n",
            "conv2d_14 (Conv2D)           (None, 350, 230, 64)      1664      \n",
            "_________________________________________________________________\n",
            "max_pooling2d_6 (MaxPooling2 (None, 175, 115, 64)      0         \n",
            "_________________________________________________________________\n",
            "dropout_11 (Dropout)         (None, 175, 115, 64)      0         \n",
            "_________________________________________________________________\n",
            "batch_normalization_10 (Batc (None, 175, 115, 64)      256       \n",
            "_________________________________________________________________\n",
            "conv2d_15 (Conv2D)           (None, 175, 115, 128)     204928    \n",
            "_________________________________________________________________\n",
            "max_pooling2d_7 (MaxPooling2 (None, 87, 57, 128)       0         \n",
            "_________________________________________________________________\n",
            "dropout_12 (Dropout)         (None, 87, 57, 128)       0         \n",
            "_________________________________________________________________\n",
            "batch_normalization_11 (Batc (None, 87, 57, 128)       512       \n",
            "_________________________________________________________________\n",
            "conv2d_16 (Conv2D)           (None, 87, 57, 256)       819456    \n",
            "_________________________________________________________________\n",
            "max_pooling2d_8 (MaxPooling2 (None, 43, 28, 256)       0         \n",
            "_________________________________________________________________\n",
            "dropout_13 (Dropout)         (None, 43, 28, 256)       0         \n",
            "_________________________________________________________________\n",
            "flatten_6 (Flatten)          (None, 308224)            0         \n",
            "_________________________________________________________________\n",
            "dense_11 (Dense)             (None, 256)               78905600  \n",
            "_________________________________________________________________\n",
            "dropout_14 (Dropout)         (None, 256)               0         \n",
            "_________________________________________________________________\n",
            "dense_12 (Dense)             (None, 2)                 514       \n",
            "=================================================================\n",
            "Total params: 79,932,934\n",
            "Trainable params: 79,932,548\n",
            "Non-trainable params: 386\n",
            "_________________________________________________________________\n"
          ],
          "name": "stdout"
        }
      ]
    }
  ]
}